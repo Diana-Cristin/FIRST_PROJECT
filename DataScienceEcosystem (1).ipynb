{
 "cells": [
  {
   "cell_type": "markdown",
   "id": "7d3fd9b5-ac66-40a6-948d-c4e3dac838c6",
   "metadata": {},
   "source": [
    "# Data Science Tools and Ecosystem\n"
   ]
  },
  {
   "cell_type": "markdown",
   "id": "26bf602d-3c4f-4f8b-9d2f-f6d9a3d653d4",
   "metadata": {},
   "source": [
    "## In this notebook, Data Science Tools and Ecosystem are summarized."
   ]
  },
  {
   "cell_type": "markdown",
   "id": "ae7b9aac-4fcf-4981-9b83-701021c96a9d",
   "metadata": {},
   "source": [
    "## **Objetives**\n",
    "* List popular languages for Data Science\n",
    "* List some of the commonly libraries used by Data Scientists\n",
    "* Know some Data Science Tools\n",
    "* Exemplify some arithmetic expressions"
   ]
  },
  {
   "cell_type": "markdown",
   "id": "8cb77f4d-d3d7-4b8a-9599-ccf5bd336e3d",
   "metadata": {
    "tags": []
   },
   "source": [
    "### Some of the popular languages that Data Scientists use are:\n",
    "1. SqL\n",
    "2. PYTHON\n",
    "3. JAVA\n",
    "\n"
   ]
  },
  {
   "cell_type": "markdown",
   "id": "8b3e8043-0109-44f6-90fa-ccab569f8d54",
   "metadata": {},
   "source": [
    "### Some of the commonly used libraries used by Data Scientists include:\n",
    "* Gally\n",
    "* Scikit-learn\n",
    "* Pandas\n",
    "* Numpy\n"
   ]
  },
  {
   "cell_type": "markdown",
   "id": "aced86c5-d38d-45b0-a45f-bf8081e1a129",
   "metadata": {},
   "source": [
    "# Data Science Tools\n",
    "|Data Science Tools|\n",
    "|-------------|\n",
    "|APACHE SPARK|\n",
    "|APACHE HADOOP|\n",
    "|TENSOR FLOW|\n"
   ]
  },
  {
   "cell_type": "markdown",
   "id": "37d2e174-ec4f-4e27-94ea-d3c8f846a0c4",
   "metadata": {},
   "source": [
    "### Below are a few examples of evaluating arithmetic expressions in Python.\n",
    "\n"
   ]
  },
  {
   "cell_type": "markdown",
   "id": "add9a534-ea20-4735-bfbc-faec35f8dc20",
   "metadata": {},
   "source": [
    "### This a simple arithmetic expression to mutiply then add integer"
   ]
  },
  {
   "cell_type": "code",
   "execution_count": 3,
   "id": "271a8243-d58f-4ec0-a043-2e8bac2e69ed",
   "metadata": {
    "tags": []
   },
   "outputs": [
    {
     "data": {
      "text/plain": [
       "17"
      ]
     },
     "execution_count": 3,
     "metadata": {},
     "output_type": "execute_result"
    }
   ],
   "source": [
    "\n",
    "(3*4)+5"
   ]
  },
  {
   "cell_type": "markdown",
   "id": "cb34aa15-e734-4fa3-a295-c8f80e4fa345",
   "metadata": {},
   "source": [
    "### This will convert 200 minutes to hours by diving by 60"
   ]
  },
  {
   "cell_type": "code",
   "execution_count": 4,
   "id": "e1ae48ec-0185-4583-b2f8-7d274ed71b0e",
   "metadata": {
    "tags": []
   },
   "outputs": [
    {
     "data": {
      "text/plain": [
       "3.3333333333333335"
      ]
     },
     "execution_count": 4,
     "metadata": {},
     "output_type": "execute_result"
    }
   ],
   "source": [
    "200/60"
   ]
  },
  {
   "cell_type": "markdown",
   "id": "161b14f9-b5d5-4527-8267-94976ebb099b",
   "metadata": {},
   "source": [
    "## Author\n",
    "### Diana Cristina Rojas Romaní\n"
   ]
  },
  {
   "cell_type": "code",
   "execution_count": null,
   "id": "c2789bde-c554-4d91-9d58-b391129d1de6",
   "metadata": {},
   "outputs": [],
   "source": []
  }
 ],
 "metadata": {
  "kernelspec": {
   "display_name": "Python",
   "language": "python",
   "name": "conda-env-python-py"
  },
  "language_info": {
   "codemirror_mode": {
    "name": "ipython",
    "version": 3
   },
   "file_extension": ".py",
   "mimetype": "text/x-python",
   "name": "python",
   "nbconvert_exporter": "python",
   "pygments_lexer": "ipython3",
   "version": "3.7.12"
  }
 },
 "nbformat": 4,
 "nbformat_minor": 5
}
